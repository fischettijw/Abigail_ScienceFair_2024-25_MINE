{
 "cells": [
  {
   "cell_type": "code",
   "execution_count": 2,
   "metadata": {},
   "outputs": [
    {
     "name": "stdout",
     "output_type": "stream",
     "text": [
      "   month    year month_name\n",
      "0    1.0  2023.0        Jan\n",
      "1    3.0  2023.0        Mar\n",
      "2    3.0  2023.0        Mar\n",
      "3    4.0  2023.0        Apr\n"
     ]
    }
   ],
   "source": [
    "import pandas as pd\n",
    "import calendar\n",
    "\n",
    "# Sample DataFrame\n",
    "data = {'month': [1.0, 3.0, 3.0, 4.0], 'year': [2023.0, 2023.0, 2023.0, 2023.0]}\n",
    "df = pd.DataFrame(data)\n",
    "\n",
    "# Convert 'month' to integers (if needed) and map to month names\n",
    "df['month_name'] = df['month'].astype(int).apply(lambda x: calendar.month_abbr[x])\n",
    "\n",
    "# Display the DataFrame\n",
    "print(df)\n"
   ]
  },
  {
   "cell_type": "code",
   "execution_count": 4,
   "metadata": {},
   "outputs": [
    {
     "name": "stdout",
     "output_type": "stream",
     "text": [
      "   month    year\n",
      "0    1.0  2023.0\n",
      "1    4.0  2023.0\n",
      "2    3.0  2023.0\n",
      "3    4.0  2023.0 \n",
      "\n",
      "\n",
      "   month    year month_name\n",
      "0    1.0  2023.0        Jan\n",
      "1    4.0  2023.0        Apr\n",
      "2    3.0  2023.0        Mar\n",
      "3    4.0  2023.0        Apr\n"
     ]
    }
   ],
   "source": [
    "import pandas as pd\n",
    "# import calendar\n",
    "\n",
    "# Sample DataFrame\n",
    "data = {'month': [1.0, 4.0, 3.0, 4.0], 'year': [2023.0, 2023.0, 2023.0, 2023.0]}\n",
    "df = pd.DataFrame(data)\n",
    "print(df, '\\n\\n')\n",
    "\n",
    "# Create a dictionary to map month numbers to abbreviated names\n",
    "month_abbr = {1.:'Jan', 2.: 'Feb', 3.: 'Mar', 4.:'Apr'}\n",
    "\n",
    "# Convert 'month' to integers (if needed) and map to month names using the dictionary\n",
    "df['month_name'] = df['month'].astype(int).map(month_abbr)\n",
    "\n",
    "# Display the DataFrame\n",
    "print(df)\n"
   ]
  }
 ],
 "metadata": {
  "kernelspec": {
   "display_name": "Python 3",
   "language": "python",
   "name": "python3"
  },
  "language_info": {
   "codemirror_mode": {
    "name": "ipython",
    "version": 3
   },
   "file_extension": ".py",
   "mimetype": "text/x-python",
   "name": "python",
   "nbconvert_exporter": "python",
   "pygments_lexer": "ipython3",
   "version": "3.12.4"
  }
 },
 "nbformat": 4,
 "nbformat_minor": 2
}
