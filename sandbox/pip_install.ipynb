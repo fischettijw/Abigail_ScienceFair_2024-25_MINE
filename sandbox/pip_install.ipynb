{
 "cells": [
  {
   "cell_type": "markdown",
   "metadata": {},
   "source": [
    "C:\\Users\\fisch\\AppData\\Local\\Programs\\Python\\Python312\\python.exe -m pip install scipy"
   ]
  }
 ],
 "metadata": {
  "language_info": {
   "name": "python"
  }
 },
 "nbformat": 4,
 "nbformat_minor": 2
}
