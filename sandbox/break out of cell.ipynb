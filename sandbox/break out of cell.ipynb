{
 "cells": [
  {
   "cell_type": "code",
   "execution_count": 29,
   "metadata": {},
   "outputs": [
    {
     "name": "stdout",
     "output_type": "stream",
     "text": [
      "Will Execute code !!!\n",
      "Will Execute code !!!\n",
      "Will Execute code !!!\n",
      "Will Execute code !!!\n"
     ]
    }
   ],
   "source": [
    "display_output = True\n",
    "if display_output: \n",
    "    print(\"Will Execute code !!!\")\n",
    "    print(\"Will Execute code !!!\")\n",
    "    print(\"Will Execute code !!!\")\n",
    "    print(\"Will Execute code !!!\")\n",
    "       "
   ]
  }
 ],
 "metadata": {
  "kernelspec": {
   "display_name": "Python 3",
   "language": "python",
   "name": "python3"
  },
  "language_info": {
   "codemirror_mode": {
    "name": "ipython",
    "version": 3
   },
   "file_extension": ".py",
   "mimetype": "text/x-python",
   "name": "python",
   "nbconvert_exporter": "python",
   "pygments_lexer": "ipython3",
   "version": "3.11.4"
  }
 },
 "nbformat": 4,
 "nbformat_minor": 2
}
