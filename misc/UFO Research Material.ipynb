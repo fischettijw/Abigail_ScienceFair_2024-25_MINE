{
 "cells": [
  {
   "cell_type": "markdown",
   "metadata": {},
   "source": [
    "[Kaggle UFO Datasets](https://www.kaggle.com/datasets?search=UFO)\n",
    "\n",
    "[UFO Sightings (Approx. 90,000)](https://www.kaggle.com/datasets/rishidamarla/ufo-sightings-approx-100000)\n",
    "\n",
    "[Predicting Aliens' Preferred UFO Shapes Using ML](https://www.kaggle.com/code/fischettijw/predicting-aliens-preferred-ufo-shapes-using-ml/edit)\n",
    "\n",
    "[National UFO Reporting Center, Davenport, WA](https://nuforc.org/)\n",
    "\n",
    "[The Early Years of NUFORC](https://nuforc.org/gribble/)\n",
    "\n",
    "[3D World Map - UFO Sightings  (National UFO Reporting Center, Davenport, WA)](https://nuforc.org/map/)\n",
    "\n",
    "[2019 Census US Population Data By State](https://www.kaggle.com/datasets/peretzcohen/2019-census-us-population-data-by-state)\n",
    "\n",
    "[Locational Geospatial Dataset](https://www.kaggle.com/datasets/armanmanteghi/locational-geospatial-dataset?select=geographic_locations.csv)\n",
    "\n",
    "[Project Sign - Wikipedia](https://en.wikipedia.org/wiki/Project_Sign)\n",
    "\n",
    "[Project Grudge - Wikipedia](https://en.wikipedia.org/wiki/Project_Grudge)\n",
    "\n",
    "[Project Blue Book - Wikipedia](https://en.wikipedia.org/wiki/Project_Blue_Book)\n",
    "\n",
    "[Project Blue Book, complete status reports - PDF (707 pages)](Project_Blue_Book,_complete_status_reports.pdf)\n",
    "\n",
    "[Military Records Research > Air Force Records > Project BLUE BOOK - Unidentified Flying Objects](https://www.archives.gov/research/military/air-force/ufos#usafac)\n",
    "\n",
    "[America's UFO hotspots, mapped](https://www.axios.com/2024/02/08/ufo-uap-sightings-us-hotspots-2000-2023)\n",
    "\n",
    "[Generating WordClouds in Python Tutorial](https://www.datacamp.com/tutorial/wordcloud-python)\n",
    "\n",
    "[Create Fancy Word Clouds in Python](https://www.youtube.com/watch?v=vRbSnlRyJNQ)\n",
    "\n",
    "[Natural Language Processing With Python and NLTK](https://www.youtube.com/watch?v=FLZvOKSCkxY&list=PLQVvvaa0QuDf2JswnfiGkliBInZnIC4HL)\n",
    "\n",
    "[Unidentified Flying Objects and Air Force Project Blue Book](https://www.af.mil/About-Us/Fact-Sheets/Display/Article/104590/unidentified-flying-objects-and-air-force-project-blue-book/)\n",
    "\n",
    "[Ancient cave paintings of aliens and UFO](https://www.craiyon.com/image/kv78Jr5ZS6KRu7kvBLI1EQ)\n",
    "\n",
    "[Wikipedia: Ancient astronauts](https://en.wikipedia.org/wiki/Ancient_astronauts)\n",
    "\n",
    "[Pilot Reports](https://nuforc.org/subndx/?id=x)\n",
    "\n",
    "[3D World UFO Sightings](https://nuforc.org/map/)"
   ]
  }
 ],
 "metadata": {
  "language_info": {
   "name": "python"
  }
 },
 "nbformat": 4,
 "nbformat_minor": 2
}
