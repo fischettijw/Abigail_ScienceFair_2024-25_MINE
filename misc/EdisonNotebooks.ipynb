{
 "cells": [
  {
   "cell_type": "markdown",
   "metadata": {},
   "source": [
    "# <center> <span style=\"font-weight:bold; text-decoration:underline; color:red;\">\"Was Thomas Edison<br>the First Data Scientist ?\"</span> </center>\n",
    "<br>\n",
    "<center>The professional title of \"data scientist\"<br>has been attributed to<br>DJ Patil and Jeff Hammerbacher in 2008.<br>(Wikipedia)</center>\n",
    "<hr><hr>"
   ]
  },
  {
   "cell_type": "markdown",
   "metadata": {},
   "source": [
    "# <center> \"Genius is one percent inspiration ...\" </center>\n",
    "\n",
    "Yes, there are several famous sayings and quotes related to Thomas Edison and his notebooks. One of the most well-known is:\n",
    "\n",
    "\"Genius is one percent inspiration and ninety-nine percent perspiration.\"\n",
    "This quote reflects Edison's belief in the importance of hard work and persistence. His notebooks are a testament to this philosophy, as they are filled with countless experiments, ideas, and observations that show how he tirelessly pursued innovation.\n",
    "Another quote that speaks to the value Edison placed on his notebooks:\n",
    "\n",
    "\"The value of an idea lies in the using of it.\"\n",
    "Edison emphasized that ideas alone aren't enough—they must be put into action. His notebooks were crucial in turning his ideas into practical inventions.\n",
    "Edison famously kept detailed notebooks, documenting everything meticulously. These notebooks not only recorded his successes but also his failures, reflecting his approach of learning from every experiment, regardless of the outcome.\n",
    "\n",
    "[Thomas Edison's Notebooks](https://www.senstone.io/thomas-edison-notes-technique/#:~:text=Thomas%20Edison%20Loved,Thousands%20of%20sketches.) - The total volume of Thomas Edison's notes? 3,500 notebooks, around 285 pages each, in total 5 million words, with Thousands of sketches.\n",
    "\n",
    "<hr><hr>"
   ]
  },
  {
   "cell_type": "markdown",
   "metadata": {},
   "source": [
    "# <center> \"My notebooks contain the life I live ...\" </center>\n",
    "\n",
    "Thomas Edison is famous for his extensive use of notebooks, which he used to record ideas, experiments, and observations. His meticulous documentation was key to his success as an inventor. Here are a few sayings and quotes related to his notebooks:\n",
    "\n",
    "\"My notebooks contain the life I live.\" - This reflects Edison’s belief that his notebooks were a direct reflection of his life's work.\n",
    "\n",
    "\"To invent, you need a good imagination and a pile of junk.\" - While not directly about his notebooks, this quote encapsulates Edison’s approach to invention, where his notebooks were filled with ideas, no matter how far-fetched, that could later become valuable innovations.\n",
    "\n",
    "\"Genius is one percent inspiration, ninety-nine percent perspiration.\" - Edison's famous quote underscores the importance of hard work and persistence. His notebooks are a testament to this, as they show the countless trials and errors he went through before achieving success.\n",
    "\n",
    "\"I never did a day's work in my life. It was all fun.\" - Edison's passion for his work is evident in his notebooks, where he meticulously recorded his experiments and ideas, often working late into the night because he enjoyed it so much.\n",
    "\n",
    "These quotes emphasize the importance of documentation, creativity, and persistence in Edison's work and his use of notebooks as a crucial tool in his inventing process.\n",
    "\n",
    "<hr><hr>"
   ]
  },
  {
   "cell_type": "markdown",
   "metadata": {},
   "source": [
    "# <center> \"My notebooks are the records<br>of my hard work and experiences .... \" </center>\n",
    "\n",
    "Yes, Thomas Edison is often quoted regarding his meticulous use of notebooks and his approach to innovation. One famous saying attributed to him is:\n",
    "\n",
    "\"My notebooks are the records of my hard work and experiences. They are valuable because they contain the germs of inventions that may or may not have materialized.\"\n",
    "\n",
    "Another popular quote, though not directly about his notebooks, reflects his persistence and experimental approach:\n",
    "\n",
    "\"I have not failed. I've just found 10,000 ways that won't work.\"\n",
    "\n",
    "This quote highlights the importance of documentation and persistence, which his notebooks exemplified. Edison's notebooks were filled with sketches, ideas, experiments, and notes that served as the foundation for many of his inventions.\n",
    "\n",
    "<hr><hr>"
   ]
  },
  {
   "cell_type": "code",
   "execution_count": null,
   "metadata": {},
   "outputs": [],
   "source": []
  }
 ],
 "metadata": {
  "language_info": {
   "name": "python"
  }
 },
 "nbformat": 4,
 "nbformat_minor": 2
}
